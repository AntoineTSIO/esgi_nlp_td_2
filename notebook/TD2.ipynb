{
 "cells": [
  {
   "cell_type": "markdown",
   "id": "43187f17-c723-41f0-8d6e-725d9c7b9f47",
   "metadata": {},
   "source": [
    "# TD2 part 1\n",
    "Dans ce TD, nous allons construire un RNN from scratch avec Pytorch, en suivant les étapes suivantes:\n",
    "\n",
    "- Sur un problème non-linéaire, nous allons construire un multi-layers perceptron\n",
    "- Sur un problème de texte, nous utiliserons pytorch pour optimiser un RNN\n"
   ]
  },
  {
   "cell_type": "code",
   "id": "08035702-212d-480d-bf40-81fa151766c0",
   "metadata": {
    "ExecuteTime": {
     "end_time": "2024-11-04T10:12:18.258869Z",
     "start_time": "2024-11-04T10:12:18.256036Z"
    }
   },
   "source": [
    "import matplotlib.pyplot as plt\n",
    "import numpy as np\n",
    "import torch"
   ],
   "outputs": [],
   "execution_count": 9
  },
  {
   "cell_type": "markdown",
   "id": "dce1d0c6-6949-42b6-9414-72e1447220d1",
   "metadata": {},
   "source": [
    "# Problème simple"
   ]
  },
  {
   "cell_type": "markdown",
   "id": "aeed15a9-79b9-40b8-8717-313bef8e5a85",
   "metadata": {},
   "source": [
    "## Données exemples\n",
    "Nous allons construire des données $y = \\beta^* X + b$\n"
   ]
  },
  {
   "cell_type": "code",
   "id": "c5ab1c51-0dda-4209-bfc6-8613584a2cc1",
   "metadata": {
    "ExecuteTime": {
     "end_time": "2024-11-04T10:12:19.914866Z",
     "start_time": "2024-11-04T10:12:19.859472Z"
    }
   },
   "source": [
    "n = 100\n",
    "\n",
    "a_star = 3.\n",
    "b_star = -3.\n",
    "noise_std = 1\n",
    "\n",
    "x = (np.random.rand(n, 1) - 0.5) * 4\n",
    "noise = np.random.normal(0, noise_std, (n, 1))\n",
    "y = a_star * x + b_star + noise\n",
    "\n",
    "x = torch.tensor(x, dtype=torch.float32)\n",
    "\n",
    "xvec = x\n",
    "plt.plot(x, y, 'o', markersize=10)"
   ],
   "outputs": [
    {
     "data": {
      "text/plain": [
       "[<matplotlib.lines.Line2D at 0x110071ee0>]"
      ]
     },
     "execution_count": 10,
     "metadata": {},
     "output_type": "execute_result"
    },
    {
     "data": {
      "text/plain": [
       "<Figure size 640x480 with 1 Axes>"
      ],
      "image/png": "[encoded data removed]"
     },
     "metadata": {},
     "output_type": "display_data"
    }
   ],
   "execution_count": 10
  },
  {
   "cell_type": "markdown",
   "id": "0d475248-e907-49fe-bd63-db269c804589",
   "metadata": {},
   "source": [
    "### Constuire l'optimizer\n",
    "\n",
    "- Avec torch.nn.Parameter(), créer le paramètre beta qui sera optimisé. Les predictions du modèle sont égales à $\\beta \\times X$ \n",
    "- Avec torch.nn.MSELoss, déclarer la loss entre les prédictions et le résultat réel. loss.backward() pour mettre à jour les gradients\n",
    "- Avec torch.optim.Adam, déclarer un optimizer\n",
    "- Construisez la boucle qui, pour n_epochs, va reset les gradients, calculer la loss, mettre à jour les gradients et faire un pas pour optimiser beta"
   ]
  },
  {
   "cell_type": "code",
   "id": "989c83e0-aff3-4f06-8ae1-f7fc8e4adac2",
   "metadata": {
    "ExecuteTime": {
     "end_time": "2024-11-04T10:12:22.418479Z",
     "start_time": "2024-11-04T10:12:21.764500Z"
    }
   },
   "source": [
    "xvec = torch.tensor(xvec, dtype=torch.float32)\n",
    "y = torch.tensor(y, dtype=torch.float32)\n",
    "\n",
    "beta = torch.nn.Parameter(torch.tensor(a_star * xvec, dtype=torch.float32))\n",
    "\n",
    "loss_fn = torch.nn.MSELoss()\n",
    "optimizer = torch.optim.Adam([beta], lr=0.01)\n",
    "epochs = 10000\n",
    "\n",
    "for epoch in range(epochs):\n",
    "    optimizer.zero_grad()\n",
    "    y_hat = beta * xvec\n",
    "    loss_val = loss_fn(y_hat, y)\n",
    "    loss_val.backward()\n",
    "    optimizer.step()\n",
    "    if epoch % 100 == 0:\n",
    "        print(f'Epoch {epoch}, loss {loss_val.item()}')"
   ],
   "outputs": [
    {
     "name": "stderr",
     "output_type": "stream",
     "text": [
      "/var/folders/3h/mtzh29f56s5d6tym3k89pnfw0000gn/T/ipykernel_31137/795866806.py:1: UserWarning: To copy construct from a tensor, it is recommended to use sourceTensor.clone().detach() or sourceTensor.clone().detach().requires_grad_(True), rather than torch.tensor(sourceTensor).\n",
      "  xvec = torch.tensor(xvec, dtype=torch.float32)\n",
      "/var/folders/3h/mtzh29f56s5d6tym3k89pnfw0000gn/T/ipykernel_31137/795866806.py:4: UserWarning: To copy construct from a tensor, it is recommended to use sourceTensor.clone().detach() or sourceTensor.clone().detach().requires_grad_(True), rather than torch.tensor(sourceTensor).\n",
      "  beta = torch.nn.Parameter(torch.tensor(a_star * xvec, dtype=torch.float32))\n"
     ]
    },
    {
     "name": "stdout",
     "output_type": "stream",
     "text": [
      "Epoch 0, loss 84.81423950195312\n",
      "Epoch 100, loss 67.13574981689453\n",
      "Epoch 200, loss 52.7981071472168\n",
      "Epoch 300, loss 41.24266052246094\n",
      "Epoch 400, loss 31.959060668945312\n",
      "Epoch 500, loss 24.524980545043945\n",
      "Epoch 600, loss 18.6041316986084\n",
      "Epoch 700, loss 13.929616928100586\n",
      "Epoch 800, loss 10.283515930175781\n",
      "Epoch 900, loss 7.481524467468262\n",
      "Epoch 1000, loss 5.364340782165527\n",
      "Epoch 1100, loss 3.7937164306640625\n",
      "Epoch 1200, loss 2.6508374214172363\n",
      "Epoch 1300, loss 1.835436224937439\n",
      "Epoch 1400, loss 1.264879584312439\n",
      "Epoch 1500, loss 0.8728893399238586\n",
      "Epoch 1600, loss 0.6078549027442932\n",
      "Epoch 1700, loss 0.4308185577392578\n",
      "Epoch 1800, loss 0.3133045434951782\n",
      "Epoch 1900, loss 0.23516486585140228\n",
      "Epoch 2000, loss 0.18259815871715546\n",
      "Epoch 2100, loss 0.14644022285938263\n",
      "Epoch 2200, loss 0.12077972292900085\n",
      "Epoch 2300, loss 0.10189563035964966\n",
      "Epoch 2400, loss 0.08748701214790344\n",
      "Epoch 2500, loss 0.07614058256149292\n",
      "Epoch 2600, loss 0.0669812262058258\n",
      "Epoch 2700, loss 0.05945286899805069\n",
      "Epoch 2800, loss 0.053186558187007904\n",
      "Epoch 2900, loss 0.0479242317378521\n",
      "Epoch 3000, loss 0.043475791811943054\n",
      "Epoch 3100, loss 0.03969499468803406\n",
      "Epoch 3200, loss 0.0364660769701004\n",
      "Epoch 3300, loss 0.03369567170739174\n",
      "Epoch 3400, loss 0.03130760043859482\n",
      "Epoch 3500, loss 0.029239390045404434\n",
      "Epoch 3600, loss 0.027439476922154427\n",
      "Epoch 3700, loss 0.02586505003273487\n",
      "Epoch 3800, loss 0.024480385705828667\n",
      "Epoch 3900, loss 0.02325553260743618\n",
      "Epoch 4000, loss 0.022165188565850258\n",
      "Epoch 4100, loss 0.021187907084822655\n",
      "Epoch 4200, loss 0.02030550315976143\n",
      "Epoch 4300, loss 0.019502514973282814\n",
      "Epoch 4400, loss 0.01876581832766533\n",
      "Epoch 4500, loss 0.018084395676851273\n",
      "Epoch 4600, loss 0.017448972910642624\n",
      "Epoch 4700, loss 0.016851849853992462\n",
      "Epoch 4800, loss 0.01628672331571579\n",
      "Epoch 4900, loss 0.015748396515846252\n",
      "Epoch 5000, loss 0.015232724137604237\n",
      "Epoch 5100, loss 0.01473636832088232\n",
      "Epoch 5200, loss 0.014256683178246021\n",
      "Epoch 5300, loss 0.013791604898869991\n",
      "Epoch 5400, loss 0.013339505530893803\n",
      "Epoch 5500, loss 0.01289912685751915\n",
      "Epoch 5600, loss 0.01246950589120388\n",
      "Epoch 5700, loss 0.012049909681081772\n",
      "Epoch 5800, loss 0.01163976639509201\n",
      "Epoch 5900, loss 0.01123865507543087\n",
      "Epoch 6000, loss 0.010846253484487534\n",
      "Epoch 6100, loss 0.010462305508553982\n",
      "Epoch 6200, loss 0.010086641646921635\n",
      "Epoch 6300, loss 0.009719117544591427\n",
      "Epoch 6400, loss 0.009359624236822128\n",
      "Epoch 6500, loss 0.009008078835904598\n",
      "Epoch 6600, loss 0.008664414286613464\n",
      "Epoch 6700, loss 0.008328575640916824\n",
      "Epoch 6800, loss 0.008000503294169903\n",
      "Epoch 6900, loss 0.007680162321776152\n",
      "Epoch 7000, loss 0.007367495447397232\n",
      "Epoch 7100, loss 0.007062462158501148\n",
      "Epoch 7200, loss 0.006765018217265606\n",
      "Epoch 7300, loss 0.006475123576819897\n",
      "Epoch 7400, loss 0.006192722823470831\n",
      "Epoch 7500, loss 0.005917786154896021\n",
      "Epoch 7600, loss 0.005650244187563658\n",
      "Epoch 7700, loss 0.005390073172748089\n",
      "Epoch 7800, loss 0.005137205123901367\n",
      "Epoch 7900, loss 0.0048915911465883255\n",
      "Epoch 8000, loss 0.004653180483728647\n",
      "Epoch 8100, loss 0.004421928897500038\n",
      "Epoch 8200, loss 0.004197757691144943\n",
      "Epoch 8300, loss 0.003980634268373251\n",
      "Epoch 8400, loss 0.003770482260733843\n",
      "Epoch 8500, loss 0.003567247651517391\n",
      "Epoch 8600, loss 0.0033708629198372364\n",
      "Epoch 8700, loss 0.0031812668312340975\n",
      "Epoch 8800, loss 0.0029983902350068092\n",
      "Epoch 8900, loss 0.002822163049131632\n",
      "Epoch 9000, loss 0.002652510069310665\n",
      "Epoch 9100, loss 0.002489360049366951\n",
      "Epoch 9200, loss 0.0023326335940510035\n",
      "Epoch 9300, loss 0.002182253170758486\n",
      "Epoch 9400, loss 0.0020381389185786247\n",
      "Epoch 9500, loss 0.001900190720334649\n",
      "Epoch 9600, loss 0.001768333138898015\n",
      "Epoch 9700, loss 0.0016424694331362844\n",
      "Epoch 9800, loss 0.0015224972739815712\n",
      "Epoch 9900, loss 0.0014083231799304485\n"
     ]
    }
   ],
   "execution_count": 11
  },
  {
   "cell_type": "code",
   "id": "4f1b67ed-eb82-428c-b847-0c5070be3e21",
   "metadata": {
    "ExecuteTime": {
     "end_time": "2024-11-04T10:12:24.569186Z",
     "start_time": "2024-11-04T10:12:24.506358Z"
    }
   },
   "source": [
    "# Plot des predictions\n",
    "plt.plot(x.numpy(), y.numpy(), 'o', markersize=10)\n",
    "plt.plot(x.numpy(), beta.detach().numpy() * x.numpy(), 'rx')\n",
    "plt.show()"
   ],
   "outputs": [
    {
     "data": {
      "text/plain": [
       "<Figure size 640x480 with 1 Axes>"
      ],
      "image/png": "[encoded data removed]"
     },
     "metadata": {},
     "output_type": "display_data"
    }
   ],
   "execution_count": 12
  },
  {
   "cell_type": "markdown",
   "id": "dda0d05e-cd55-4b03-b472-036840dc4b24",
   "metadata": {},
   "source": [
    "# Multi-layers perceptron\n",
    "\n",
    "## Données exemples\n",
    "\n",
    "Ici, on a un modèle $y = ax² + b$"
   ]
  },
  {
   "cell_type": "code",
   "id": "36a6fc1c-2fd4-476e-be97-44ee3072e4b5",
   "metadata": {
    "ExecuteTime": {
     "end_time": "2024-11-04T10:16:06.298843Z",
     "start_time": "2024-11-04T10:16:06.228623Z"
    }
   },
   "source": [
    "n = 100\n",
    "\n",
    "a_star = 3.\n",
    "b_star = -3.\n",
    "noise_std = 1\n",
    "\n",
    "x = (np.random.rand(n, 1) - 0.5) * 4\n",
    "noise = np.random.normal(0, noise_std, (n, 1))\n",
    "y = a_star * (x ** 2) + b_star + noise\n",
    "\n",
    "x = torch.tensor(x, dtype=torch.float32)\n",
    "y = torch.tensor(y, dtype=torch.float32)\n",
    "\n",
    "xvec = x\n",
    "plt.plot(x, y, 'o', markersize=10)"
   ],
   "outputs": [
    {
     "data": {
      "text/plain": [
       "[<matplotlib.lines.Line2D at 0x120375670>]"
      ]
     },
     "execution_count": 25,
     "metadata": {},
     "output_type": "execute_result"
    },
    {
     "data": {
      "text/plain": [
       "<Figure size 640x480 with 1 Axes>"
      ],
      "image/png": "[encoded data removed]"
     },
     "metadata": {},
     "output_type": "display_data"
    }
   ],
   "execution_count": 25
  },
  {
   "cell_type": "markdown",
   "id": "6f136309-aea7-4ed1-a0ba-d47666ef5f25",
   "metadata": {},
   "source": [
    "Nous allons construire un Pytorch modèle. Dans ce framework, on définit la fonction \"forward\" qui prend en argument les inputs et retourne les prédictions.\n",
    "\n",
    "A l'aide de torch.nn.Module et de différentes layers (torch.nn.Linear, torch.nn.ReLU), terminez la classe ci-dessous pour créer un multi-layers perceptron "
   ]
  },
  {
   "cell_type": "code",
   "id": "06f40764-72e5-4c67-8ffc-28b4e9f9159b",
   "metadata": {
    "ExecuteTime": {
     "end_time": "2024-11-04T10:16:08.018858Z",
     "start_time": "2024-11-04T10:16:08.013817Z"
    }
   },
   "source": [
    "class MLP(torch.nn.Module):\n",
    "    def __init__(self, input_size, layer_2_size, layer_3_size, layer_4_size, output_size=1):\n",
    "        super().__init__()\n",
    "        self.layer1 = torch.nn.Linear(input_size, layer_2_size)\n",
    "        self.layer2 = torch.nn.Linear(layer_2_size, layer_3_size)\n",
    "        self.layer3 = torch.nn.Linear(layer_3_size, layer_4_size)\n",
    "        self.layer4 = torch.nn.Linear(layer_4_size, output_size)\n",
    "\n",
    "    def forward(self, X):\n",
    "        X = torch.nn.functional.relu(self.layer1(X))\n",
    "        X = torch.nn.functional.relu(self.layer2(X))\n",
    "        X = torch.nn.functional.relu(self.layer3(X))\n",
    "        X = self.layer4(X)\n",
    "        return X"
   ],
   "outputs": [],
   "execution_count": 26
  },
  {
   "cell_type": "markdown",
   "id": "8d202ebd-5aa2-4269-adb3-da9d60f67ef3",
   "metadata": {},
   "source": [
    "En utilisant le travail précédent, faite une cellule utilisant un torch optimizer pour optimiser le MLP "
   ]
  },
  {
   "cell_type": "code",
   "id": "de065cfa",
   "metadata": {
    "ExecuteTime": {
     "end_time": "2024-11-04T10:16:25.559733Z",
     "start_time": "2024-11-04T10:16:11.310178Z"
    }
   },
   "source": [
    "# generate optimizer for MLP class\n",
    "input_size = 1\n",
    "layer_1_size = 50\n",
    "layer_2_size = 30\n",
    "layer_3_size = 20\n",
    "output_size = 1\n",
    "\n",
    "model = MLP(input_size, layer_1_size, layer_2_size, layer_3_size, output_size)\n",
    "loss_fn = torch.nn.MSELoss()\n",
    "optimizer = torch.optim.Adam(model.parameters(), lr=0.01)\n",
    "epochs = 50000\n",
    "\n",
    "for epoch in range(epochs):\n",
    "    optimizer.zero_grad()\n",
    "    y_hat = model(xvec)\n",
    "    loss_val = loss_fn(y_hat, y)\n",
    "    loss_val.backward()\n",
    "    optimizer.step()\n",
    "    if epoch % 100 == 0:\n",
    "        print(f'Epoch {epoch}, loss {loss_val.item()}')"
   ],
   "outputs": [
    {
     "name": "stdout",
     "output_type": "stream",
     "text": [
      "Epoch 0, loss 13.554448127746582\n",
      "Epoch 100, loss 0.8025062680244446\n",
      "Epoch 200, loss 0.7761123180389404\n",
      "Epoch 300, loss 0.758251428604126\n",
      "Epoch 400, loss 0.753990650177002\n",
      "Epoch 500, loss 0.7366431951522827\n",
      "Epoch 600, loss 0.7472877502441406\n",
      "Epoch 700, loss 0.7347300052642822\n",
      "Epoch 800, loss 0.7243423461914062\n",
      "Epoch 900, loss 0.7013922929763794\n",
      "Epoch 1000, loss 0.6946966648101807\n",
      "Epoch 1100, loss 0.6946998834609985\n",
      "Epoch 1200, loss 0.6663575172424316\n",
      "Epoch 1300, loss 0.6684390902519226\n",
      "Epoch 1400, loss 0.6501368880271912\n",
      "Epoch 1500, loss 0.6399701833724976\n",
      "Epoch 1600, loss 0.632134199142456\n",
      "Epoch 1700, loss 0.6297332644462585\n",
      "Epoch 1800, loss 0.6366703510284424\n",
      "Epoch 1900, loss 0.6262567639350891\n",
      "Epoch 2000, loss 0.6210359334945679\n",
      "Epoch 2100, loss 0.6195657849311829\n",
      "Epoch 2200, loss 0.6134454607963562\n",
      "Epoch 2300, loss 0.6095935106277466\n",
      "Epoch 2400, loss 0.622286319732666\n",
      "Epoch 2500, loss 0.6068930625915527\n",
      "Epoch 2600, loss 0.611061155796051\n",
      "Epoch 2700, loss 0.6796501278877258\n",
      "Epoch 2800, loss 0.6054940223693848\n",
      "Epoch 2900, loss 0.599086582660675\n",
      "Epoch 3000, loss 0.5993227958679199\n",
      "Epoch 3100, loss 0.6386339068412781\n",
      "Epoch 3200, loss 0.6026919484138489\n",
      "Epoch 3300, loss 0.5945865511894226\n",
      "Epoch 3400, loss 0.5971170663833618\n",
      "Epoch 3500, loss 0.5908092260360718\n",
      "Epoch 3600, loss 0.588469386100769\n",
      "Epoch 3700, loss 0.590960681438446\n",
      "Epoch 3800, loss 0.5839828252792358\n",
      "Epoch 3900, loss 0.5839819312095642\n",
      "Epoch 4000, loss 0.5911610126495361\n",
      "Epoch 4100, loss 0.5758059620857239\n",
      "Epoch 4200, loss 0.5695862770080566\n",
      "Epoch 4300, loss 0.571258008480072\n",
      "Epoch 4400, loss 0.602967381477356\n",
      "Epoch 4500, loss 0.5595176219940186\n",
      "Epoch 4600, loss 0.5551044344902039\n",
      "Epoch 4700, loss 0.5707920789718628\n",
      "Epoch 4800, loss 0.5491527318954468\n",
      "Epoch 4900, loss 0.5793848633766174\n",
      "Epoch 5000, loss 0.5439801812171936\n",
      "Epoch 5100, loss 0.5492677092552185\n",
      "Epoch 5200, loss 0.5556200742721558\n",
      "Epoch 5300, loss 0.5936322212219238\n",
      "Epoch 5400, loss 0.5411655902862549\n",
      "Epoch 5500, loss 0.5562483072280884\n",
      "Epoch 5600, loss 0.5368033051490784\n",
      "Epoch 5700, loss 0.5291435718536377\n",
      "Epoch 5800, loss 0.5317130088806152\n",
      "Epoch 5900, loss 0.5894779562950134\n",
      "Epoch 6000, loss 0.542299747467041\n",
      "Epoch 6100, loss 0.5415180921554565\n",
      "Epoch 6200, loss 0.5251394510269165\n",
      "Epoch 6300, loss 0.5347796678543091\n",
      "Epoch 6400, loss 0.5410990715026855\n",
      "Epoch 6500, loss 0.5109595060348511\n",
      "Epoch 6600, loss 0.5773948431015015\n",
      "Epoch 6700, loss 0.5054637789726257\n",
      "Epoch 6800, loss 0.5555600523948669\n",
      "Epoch 6900, loss 0.5618934035301208\n",
      "Epoch 7000, loss 0.5025058388710022\n",
      "Epoch 7100, loss 0.49876269698143005\n",
      "Epoch 7200, loss 0.4927504062652588\n",
      "Epoch 7300, loss 0.4924716055393219\n",
      "Epoch 7400, loss 0.5031700134277344\n",
      "Epoch 7500, loss 0.4940570890903473\n",
      "Epoch 7600, loss 0.49144798517227173\n",
      "Epoch 7700, loss 0.4872887432575226\n",
      "Epoch 7800, loss 0.5011831521987915\n",
      "Epoch 7900, loss 0.4799574017524719\n",
      "Epoch 8000, loss 0.47796499729156494\n",
      "Epoch 8100, loss 0.4920383393764496\n",
      "Epoch 8200, loss 0.4752137362957001\n",
      "Epoch 8300, loss 0.5104547142982483\n",
      "Epoch 8400, loss 0.534689724445343\n",
      "Epoch 8500, loss 0.4684695899486542\n",
      "Epoch 8600, loss 0.5066807270050049\n",
      "Epoch 8700, loss 0.4710012674331665\n",
      "Epoch 8800, loss 0.5004977583885193\n",
      "Epoch 8900, loss 0.49153807759284973\n",
      "Epoch 9000, loss 0.46787261962890625\n",
      "Epoch 9100, loss 0.48646867275238037\n",
      "Epoch 9200, loss 0.4692137837409973\n",
      "Epoch 9300, loss 0.48958903551101685\n",
      "Epoch 9400, loss 0.4859873950481415\n",
      "Epoch 9500, loss 0.4670974612236023\n",
      "Epoch 9600, loss 0.4643619656562805\n",
      "Epoch 9700, loss 0.46295365691185\n",
      "Epoch 9800, loss 0.47045081853866577\n",
      "Epoch 9900, loss 0.4678167402744293\n",
      "Epoch 10000, loss 0.485879123210907\n",
      "Epoch 10100, loss 0.46065354347229004\n",
      "Epoch 10200, loss 0.48240506649017334\n",
      "Epoch 10300, loss 0.4625413119792938\n",
      "Epoch 10400, loss 0.4580226540565491\n",
      "Epoch 10500, loss 0.4999964237213135\n",
      "Epoch 10600, loss 0.46564263105392456\n",
      "Epoch 10700, loss 0.4621780514717102\n",
      "Epoch 10800, loss 0.5562204122543335\n",
      "Epoch 10900, loss 0.483254611492157\n",
      "Epoch 11000, loss 0.49316075444221497\n",
      "Epoch 11100, loss 0.4723304808139801\n",
      "Epoch 11200, loss 0.48395484685897827\n",
      "Epoch 11300, loss 0.46906569600105286\n",
      "Epoch 11400, loss 0.46853014826774597\n",
      "Epoch 11500, loss 0.4689282178878784\n",
      "Epoch 11600, loss 0.4900571405887604\n",
      "Epoch 11700, loss 0.45925793051719666\n",
      "Epoch 11800, loss 0.4681199789047241\n",
      "Epoch 11900, loss 0.4658333659172058\n",
      "Epoch 12000, loss 0.47576048970222473\n",
      "Epoch 12100, loss 0.4660824239253998\n",
      "Epoch 12200, loss 0.45094308257102966\n",
      "Epoch 12300, loss 0.46434661746025085\n",
      "Epoch 12400, loss 0.47274044156074524\n",
      "Epoch 12500, loss 0.44584524631500244\n",
      "Epoch 12600, loss 0.4435468912124634\n",
      "Epoch 12700, loss 0.4811510145664215\n",
      "Epoch 12800, loss 0.5060900449752808\n",
      "Epoch 12900, loss 0.431894451379776\n",
      "Epoch 13000, loss 0.43152916431427\n",
      "Epoch 13100, loss 0.4325927793979645\n",
      "Epoch 13200, loss 0.4351849853992462\n",
      "Epoch 13300, loss 0.4305948317050934\n",
      "Epoch 13400, loss 0.4516865909099579\n",
      "Epoch 13500, loss 0.43616366386413574\n",
      "Epoch 13600, loss 0.42516207695007324\n",
      "Epoch 13700, loss 0.4238685965538025\n",
      "Epoch 13800, loss 0.4264237880706787\n",
      "Epoch 13900, loss 0.46288245916366577\n",
      "Epoch 14000, loss 0.46029549837112427\n",
      "Epoch 14100, loss 0.4225146770477295\n",
      "Epoch 14200, loss 0.43871596455574036\n",
      "Epoch 14300, loss 0.4505649209022522\n",
      "Epoch 14400, loss 0.417793869972229\n",
      "Epoch 14500, loss 0.4462811350822449\n",
      "Epoch 14600, loss 0.416198194026947\n",
      "Epoch 14700, loss 0.4108789563179016\n",
      "Epoch 14800, loss 0.42331215739250183\n",
      "Epoch 14900, loss 0.4858824908733368\n",
      "Epoch 15000, loss 0.40788328647613525\n",
      "Epoch 15100, loss 0.4850570261478424\n",
      "Epoch 15200, loss 0.4733760356903076\n",
      "Epoch 15300, loss 0.4039980173110962\n",
      "Epoch 15400, loss 0.4244685769081116\n",
      "Epoch 15500, loss 0.4587745666503906\n",
      "Epoch 15600, loss 0.4466089904308319\n",
      "Epoch 15700, loss 0.432132750749588\n",
      "Epoch 15800, loss 0.40518614649772644\n",
      "Epoch 15900, loss 0.4138479232788086\n",
      "Epoch 16000, loss 0.42448005080223083\n",
      "Epoch 16100, loss 0.4341883063316345\n",
      "Epoch 16200, loss 0.39716553688049316\n",
      "Epoch 16300, loss 0.40015003085136414\n",
      "Epoch 16400, loss 0.46482738852500916\n",
      "Epoch 16500, loss 0.39810389280319214\n",
      "Epoch 16600, loss 0.4063745141029358\n",
      "Epoch 16700, loss 0.40202292799949646\n",
      "Epoch 16800, loss 0.41405773162841797\n",
      "Epoch 16900, loss 0.4447459876537323\n",
      "Epoch 17000, loss 0.39706289768218994\n",
      "Epoch 17100, loss 0.39805659651756287\n",
      "Epoch 17200, loss 0.41034525632858276\n",
      "Epoch 17300, loss 0.39181914925575256\n",
      "Epoch 17400, loss 0.39101386070251465\n",
      "Epoch 17500, loss 0.392355352640152\n",
      "Epoch 17600, loss 0.4323694705963135\n",
      "Epoch 17700, loss 0.3968777358531952\n",
      "Epoch 17800, loss 0.4203093647956848\n",
      "Epoch 17900, loss 0.39851057529449463\n",
      "Epoch 18000, loss 0.3899966776371002\n",
      "Epoch 18100, loss 0.4536307454109192\n",
      "Epoch 18200, loss 0.41782188415527344\n",
      "Epoch 18300, loss 0.46971964836120605\n",
      "Epoch 18400, loss 0.4602789282798767\n",
      "Epoch 18500, loss 0.3922281563282013\n",
      "Epoch 18600, loss 0.41742968559265137\n",
      "Epoch 18700, loss 0.39245444536209106\n",
      "Epoch 18800, loss 0.3905599117279053\n",
      "Epoch 18900, loss 0.38560017943382263\n",
      "Epoch 19000, loss 0.3917619287967682\n",
      "Epoch 19100, loss 0.40548110008239746\n",
      "Epoch 19200, loss 0.3876049816608429\n",
      "Epoch 19300, loss 0.4365473985671997\n",
      "Epoch 19400, loss 0.38971659541130066\n",
      "Epoch 19500, loss 0.3844686448574066\n",
      "Epoch 19600, loss 0.46684473752975464\n",
      "Epoch 19700, loss 0.40114882588386536\n",
      "Epoch 19800, loss 0.4108138680458069\n",
      "Epoch 19900, loss 0.40704575181007385\n",
      "Epoch 20000, loss 0.38713058829307556\n",
      "Epoch 20100, loss 0.3846995532512665\n",
      "Epoch 20200, loss 0.4233180582523346\n",
      "Epoch 20300, loss 0.43179911375045776\n",
      "Epoch 20400, loss 0.3901626467704773\n",
      "Epoch 20500, loss 0.39027947187423706\n",
      "Epoch 20600, loss 0.4209805428981781\n",
      "Epoch 20700, loss 0.4556206166744232\n",
      "Epoch 20800, loss 0.40951526165008545\n",
      "Epoch 20900, loss 0.37857359647750854\n",
      "Epoch 21000, loss 0.3860290050506592\n",
      "Epoch 21100, loss 0.3852803409099579\n",
      "Epoch 21200, loss 0.3840136229991913\n",
      "Epoch 21300, loss 0.3902670741081238\n",
      "Epoch 21400, loss 0.4145137071609497\n",
      "Epoch 21500, loss 0.41803818941116333\n",
      "Epoch 21600, loss 0.3948848843574524\n",
      "Epoch 21700, loss 0.5263975262641907\n",
      "Epoch 21800, loss 0.41006579995155334\n",
      "Epoch 21900, loss 0.3846379220485687\n",
      "Epoch 22000, loss 0.4080636501312256\n",
      "Epoch 22100, loss 0.37901315093040466\n",
      "Epoch 22200, loss 0.3765189051628113\n",
      "Epoch 22300, loss 0.39146700501441956\n",
      "Epoch 22400, loss 0.38352370262145996\n",
      "Epoch 22500, loss 0.38517776131629944\n",
      "Epoch 22600, loss 0.3776548504829407\n",
      "Epoch 22700, loss 0.37763866782188416\n",
      "Epoch 22800, loss 0.4464355707168579\n",
      "Epoch 22900, loss 0.3889216184616089\n",
      "Epoch 23000, loss 0.3765319883823395\n",
      "Epoch 23100, loss 0.38322827219963074\n",
      "Epoch 23200, loss 0.4592822194099426\n",
      "Epoch 23300, loss 0.37923455238342285\n",
      "Epoch 23400, loss 0.37370070815086365\n",
      "Epoch 23500, loss 0.37631916999816895\n",
      "Epoch 23600, loss 0.3734772205352783\n",
      "Epoch 23700, loss 0.42206963896751404\n",
      "Epoch 23800, loss 0.39403343200683594\n",
      "Epoch 23900, loss 0.3780347406864166\n",
      "Epoch 24000, loss 0.3853752911090851\n",
      "Epoch 24100, loss 0.38033604621887207\n",
      "Epoch 24200, loss 0.4026118516921997\n",
      "Epoch 24300, loss 0.3753207325935364\n",
      "Epoch 24400, loss 0.39373740553855896\n",
      "Epoch 24500, loss 0.3809433877468109\n",
      "Epoch 24600, loss 0.39462167024612427\n",
      "Epoch 24700, loss 0.3999185264110565\n",
      "Epoch 24800, loss 0.39045774936676025\n",
      "Epoch 24900, loss 0.4121081233024597\n",
      "Epoch 25000, loss 0.3817580044269562\n",
      "Epoch 25100, loss 0.4146433174610138\n",
      "Epoch 25200, loss 0.38654181361198425\n",
      "Epoch 25300, loss 0.3706190586090088\n",
      "Epoch 25400, loss 0.40876904129981995\n",
      "Epoch 25500, loss 0.3775959014892578\n",
      "Epoch 25600, loss 0.40336593985557556\n",
      "Epoch 25700, loss 0.3879406750202179\n",
      "Epoch 25800, loss 0.38643723726272583\n",
      "Epoch 25900, loss 0.4045827388763428\n",
      "Epoch 26000, loss 0.3980436623096466\n",
      "Epoch 26100, loss 0.38013893365859985\n",
      "Epoch 26200, loss 0.4071092903614044\n",
      "Epoch 26300, loss 0.372529536485672\n",
      "Epoch 26400, loss 0.3669949471950531\n",
      "Epoch 26500, loss 0.37335774302482605\n",
      "Epoch 26600, loss 0.36374953389167786\n",
      "Epoch 26700, loss 0.39220431447029114\n",
      "Epoch 26800, loss 0.3645365834236145\n",
      "Epoch 26900, loss 0.3827083706855774\n",
      "Epoch 27000, loss 0.40617507696151733\n",
      "Epoch 27100, loss 0.384615033864975\n",
      "Epoch 27200, loss 0.37638282775878906\n",
      "Epoch 27300, loss 0.36001595854759216\n",
      "Epoch 27400, loss 0.3803039491176605\n",
      "Epoch 27500, loss 0.3606291115283966\n",
      "Epoch 27600, loss 0.37724196910858154\n",
      "Epoch 27700, loss 0.3795222342014313\n",
      "Epoch 27800, loss 0.37895286083221436\n",
      "Epoch 27900, loss 0.37498122453689575\n",
      "Epoch 28000, loss 0.363200306892395\n",
      "Epoch 28100, loss 0.37041744589805603\n",
      "Epoch 28200, loss 0.3704774081707001\n",
      "Epoch 28300, loss 0.3649592697620392\n",
      "Epoch 28400, loss 0.35981032252311707\n",
      "Epoch 28500, loss 0.38466864824295044\n",
      "Epoch 28600, loss 0.35216033458709717\n",
      "Epoch 28700, loss 0.36905157566070557\n",
      "Epoch 28800, loss 0.3504742383956909\n",
      "Epoch 28900, loss 0.37884944677352905\n",
      "Epoch 29000, loss 0.3689976632595062\n",
      "Epoch 29100, loss 0.34797248244285583\n",
      "Epoch 29200, loss 0.3562379479408264\n",
      "Epoch 29300, loss 0.5102496147155762\n",
      "Epoch 29400, loss 0.34482914209365845\n",
      "Epoch 29500, loss 0.3467898666858673\n",
      "Epoch 29600, loss 0.3583552837371826\n",
      "Epoch 29700, loss 0.36317938566207886\n",
      "Epoch 29800, loss 0.35759761929512024\n",
      "Epoch 29900, loss 0.3714298605918884\n",
      "Epoch 30000, loss 0.3459896445274353\n",
      "Epoch 30100, loss 0.34547585248947144\n",
      "Epoch 30200, loss 0.35239356756210327\n",
      "Epoch 30300, loss 0.3740904629230499\n",
      "Epoch 30400, loss 0.3437248170375824\n",
      "Epoch 30500, loss 0.35389694571495056\n",
      "Epoch 30600, loss 0.4227742850780487\n",
      "Epoch 30700, loss 0.37134987115859985\n",
      "Epoch 30800, loss 0.3457601070404053\n",
      "Epoch 30900, loss 0.3743498921394348\n",
      "Epoch 31000, loss 0.3462375998497009\n",
      "Epoch 31100, loss 0.3494437038898468\n",
      "Epoch 31200, loss 0.35738980770111084\n",
      "Epoch 31300, loss 0.38920390605926514\n",
      "Epoch 31400, loss 0.3599706292152405\n",
      "Epoch 31500, loss 0.3501877188682556\n",
      "Epoch 31600, loss 0.38365989923477173\n",
      "Epoch 31700, loss 0.3382183313369751\n",
      "Epoch 31800, loss 0.356436550617218\n",
      "Epoch 31900, loss 0.35348740220069885\n",
      "Epoch 32000, loss 0.3397431969642639\n",
      "Epoch 32100, loss 0.34304940700531006\n",
      "Epoch 32200, loss 0.3501221537590027\n",
      "Epoch 32300, loss 0.3379238247871399\n",
      "Epoch 32400, loss 0.33951622247695923\n",
      "Epoch 32500, loss 0.33313480019569397\n",
      "Epoch 32600, loss 0.33562687039375305\n",
      "Epoch 32700, loss 0.3340408205986023\n",
      "Epoch 32800, loss 0.3394075632095337\n",
      "Epoch 32900, loss 0.34501391649246216\n",
      "Epoch 33000, loss 0.38743704557418823\n",
      "Epoch 33100, loss 0.36516788601875305\n",
      "Epoch 33200, loss 0.3323251008987427\n",
      "Epoch 33300, loss 0.402836412191391\n",
      "Epoch 33400, loss 0.3619973063468933\n",
      "Epoch 33500, loss 0.3414934277534485\n",
      "Epoch 33600, loss 0.3273770213127136\n",
      "Epoch 33700, loss 0.40292954444885254\n",
      "Epoch 33800, loss 0.3168495297431946\n",
      "Epoch 33900, loss 0.3181855082511902\n",
      "Epoch 34000, loss 0.34344586730003357\n",
      "Epoch 34100, loss 0.3199370503425598\n",
      "Epoch 34200, loss 0.32237663865089417\n",
      "Epoch 34300, loss 0.3425558805465698\n",
      "Epoch 34400, loss 0.3284657299518585\n",
      "Epoch 34500, loss 0.31698673963546753\n",
      "Epoch 34600, loss 0.3264046609401703\n",
      "Epoch 34700, loss 0.31632769107818604\n",
      "Epoch 34800, loss 0.3230147659778595\n",
      "Epoch 34900, loss 0.31283149123191833\n",
      "Epoch 35000, loss 0.3688839077949524\n",
      "Epoch 35100, loss 0.330087274312973\n",
      "Epoch 35200, loss 0.313484251499176\n",
      "Epoch 35300, loss 0.33824071288108826\n",
      "Epoch 35400, loss 0.37906473875045776\n",
      "Epoch 35500, loss 0.3031899929046631\n",
      "Epoch 35600, loss 0.3289537727832794\n",
      "Epoch 35700, loss 0.31964215636253357\n",
      "Epoch 35800, loss 0.31437888741493225\n",
      "Epoch 35900, loss 0.3909003734588623\n",
      "Epoch 36000, loss 0.30086418986320496\n",
      "Epoch 36100, loss 0.3272826075553894\n",
      "Epoch 36200, loss 0.3201809823513031\n",
      "Epoch 36300, loss 0.33567801117897034\n",
      "Epoch 36400, loss 0.362125962972641\n",
      "Epoch 36500, loss 0.30466869473457336\n",
      "Epoch 36600, loss 0.30932503938674927\n",
      "Epoch 36700, loss 0.3311605155467987\n",
      "Epoch 36800, loss 0.31452521681785583\n",
      "Epoch 36900, loss 0.31303954124450684\n",
      "Epoch 37000, loss 0.3099144399166107\n",
      "Epoch 37100, loss 0.3108084201812744\n",
      "Epoch 37200, loss 0.30827420949935913\n",
      "Epoch 37300, loss 0.31036242842674255\n",
      "Epoch 37400, loss 0.332366019487381\n",
      "Epoch 37500, loss 0.3000093102455139\n",
      "Epoch 37600, loss 0.31840866804122925\n",
      "Epoch 37700, loss 0.3058607578277588\n",
      "Epoch 37800, loss 0.3063439130783081\n",
      "Epoch 37900, loss 0.3400766849517822\n",
      "Epoch 38000, loss 0.3081485331058502\n",
      "Epoch 38100, loss 0.3209078311920166\n",
      "Epoch 38200, loss 0.30412256717681885\n",
      "Epoch 38300, loss 0.3229213058948517\n",
      "Epoch 38400, loss 0.30904263257980347\n",
      "Epoch 38500, loss 0.3327019512653351\n",
      "Epoch 38600, loss 0.32078930735588074\n",
      "Epoch 38700, loss 0.30930018424987793\n",
      "Epoch 38800, loss 0.29248368740081787\n",
      "Epoch 38900, loss 0.32929715514183044\n",
      "Epoch 39000, loss 0.3008229732513428\n",
      "Epoch 39100, loss 0.2979457974433899\n",
      "Epoch 39200, loss 0.295299768447876\n",
      "Epoch 39300, loss 0.30204012989997864\n",
      "Epoch 39400, loss 0.37294673919677734\n",
      "Epoch 39500, loss 0.3007619380950928\n",
      "Epoch 39600, loss 0.30807623267173767\n",
      "Epoch 39700, loss 0.30976516008377075\n",
      "Epoch 39800, loss 0.3026985824108124\n",
      "Epoch 39900, loss 0.31125882267951965\n",
      "Epoch 40000, loss 0.30833983421325684\n",
      "Epoch 40100, loss 0.3283167779445648\n",
      "Epoch 40200, loss 0.3235749304294586\n",
      "Epoch 40300, loss 0.29448649287223816\n",
      "Epoch 40400, loss 0.3057461678981781\n",
      "Epoch 40500, loss 0.3018144369125366\n",
      "Epoch 40600, loss 0.42621269822120667\n",
      "Epoch 40700, loss 0.33568477630615234\n",
      "Epoch 40800, loss 0.3362143635749817\n",
      "Epoch 40900, loss 0.2916668951511383\n",
      "Epoch 41000, loss 0.2923375070095062\n",
      "Epoch 41100, loss 0.2978380024433136\n",
      "Epoch 41200, loss 0.43552711606025696\n",
      "Epoch 41300, loss 0.31412142515182495\n",
      "Epoch 41400, loss 0.32641685009002686\n",
      "Epoch 41500, loss 0.32886558771133423\n",
      "Epoch 41600, loss 0.2921198010444641\n",
      "Epoch 41700, loss 0.33848807215690613\n",
      "Epoch 41800, loss 0.3340054452419281\n",
      "Epoch 41900, loss 0.288722425699234\n",
      "Epoch 42000, loss 0.28686437010765076\n",
      "Epoch 42100, loss 0.31323710083961487\n",
      "Epoch 42200, loss 0.2986317276954651\n",
      "Epoch 42300, loss 0.2841818928718567\n",
      "Epoch 42400, loss 0.3726905584335327\n",
      "Epoch 42500, loss 0.3755967617034912\n",
      "Epoch 42600, loss 0.3012317419052124\n",
      "Epoch 42700, loss 0.2897721230983734\n",
      "Epoch 42800, loss 0.31161320209503174\n",
      "Epoch 42900, loss 0.2864447832107544\n",
      "Epoch 43000, loss 0.287566602230072\n",
      "Epoch 43100, loss 0.34421658515930176\n",
      "Epoch 43200, loss 0.3034372329711914\n",
      "Epoch 43300, loss 0.3569352328777313\n",
      "Epoch 43400, loss 0.2968848943710327\n",
      "Epoch 43500, loss 0.31783097982406616\n",
      "Epoch 43600, loss 0.28633877635002136\n",
      "Epoch 43700, loss 0.42918330430984497\n",
      "Epoch 43800, loss 0.3512638211250305\n",
      "Epoch 43900, loss 0.3246048092842102\n",
      "Epoch 44000, loss 0.3430306613445282\n",
      "Epoch 44100, loss 0.30012014508247375\n",
      "Epoch 44200, loss 0.32077518105506897\n",
      "Epoch 44300, loss 0.3079279661178589\n",
      "Epoch 44400, loss 0.35413238406181335\n",
      "Epoch 44500, loss 0.3247970640659332\n",
      "Epoch 44600, loss 0.36219558119773865\n",
      "Epoch 44700, loss 0.38044944405555725\n",
      "Epoch 44800, loss 0.3355410695075989\n",
      "Epoch 44900, loss 0.3116796016693115\n",
      "Epoch 45000, loss 0.3227146863937378\n",
      "Epoch 45100, loss 0.3154540956020355\n",
      "Epoch 45200, loss 0.30995598435401917\n",
      "Epoch 45300, loss 0.29441601037979126\n",
      "Epoch 45400, loss 0.3035486340522766\n",
      "Epoch 45500, loss 0.31150513887405396\n",
      "Epoch 45600, loss 0.3135108947753906\n",
      "Epoch 45700, loss 0.29189032316207886\n",
      "Epoch 45800, loss 0.3108144998550415\n",
      "Epoch 45900, loss 0.34049174189567566\n",
      "Epoch 46000, loss 0.34802666306495667\n",
      "Epoch 46100, loss 0.2969611585140228\n",
      "Epoch 46200, loss 0.32281604409217834\n",
      "Epoch 46300, loss 0.29928427934646606\n",
      "Epoch 46400, loss 0.30656805634498596\n",
      "Epoch 46500, loss 0.2906939387321472\n",
      "Epoch 46600, loss 0.31005868315696716\n",
      "Epoch 46700, loss 0.32083070278167725\n",
      "Epoch 46800, loss 0.28866803646087646\n",
      "Epoch 46900, loss 0.2941613495349884\n",
      "Epoch 47000, loss 0.3278210461139679\n",
      "Epoch 47100, loss 0.29621422290802\n",
      "Epoch 47200, loss 0.3003891110420227\n",
      "Epoch 47300, loss 0.2937195301055908\n",
      "Epoch 47400, loss 0.30480074882507324\n",
      "Epoch 47500, loss 0.3333784341812134\n",
      "Epoch 47600, loss 0.28732916712760925\n",
      "Epoch 47700, loss 0.3204997777938843\n",
      "Epoch 47800, loss 0.3159368932247162\n",
      "Epoch 47900, loss 0.3054032623767853\n",
      "Epoch 48000, loss 0.2911944091320038\n",
      "Epoch 48100, loss 0.3373638093471527\n",
      "Epoch 48200, loss 0.2813979983329773\n",
      "Epoch 48300, loss 0.300299733877182\n",
      "Epoch 48400, loss 0.35015854239463806\n",
      "Epoch 48500, loss 0.310757040977478\n",
      "Epoch 48600, loss 0.3892208933830261\n",
      "Epoch 48700, loss 0.29453983902931213\n",
      "Epoch 48800, loss 0.3056110739707947\n",
      "Epoch 48900, loss 0.2924668490886688\n",
      "Epoch 49000, loss 0.2913387417793274\n",
      "Epoch 49100, loss 0.2915472388267517\n",
      "Epoch 49200, loss 0.3489488661289215\n",
      "Epoch 49300, loss 0.3101614713668823\n",
      "Epoch 49400, loss 0.35583582520484924\n",
      "Epoch 49500, loss 0.3095382750034332\n",
      "Epoch 49600, loss 0.3374693989753723\n",
      "Epoch 49700, loss 0.30054453015327454\n",
      "Epoch 49800, loss 0.30587485432624817\n",
      "Epoch 49900, loss 0.3988703787326813\n"
     ]
    }
   ],
   "execution_count": 27
  },
  {
   "metadata": {
    "ExecuteTime": {
     "end_time": "2024-11-04T10:16:27.680398Z",
     "start_time": "2024-11-04T10:16:27.619596Z"
    }
   },
   "cell_type": "code",
   "source": [
    "# Plot des predictions\n",
    "plt.plot(x.numpy(), y.numpy(), 'o', markersize=10)\n",
    "plt.plot(x.numpy(), model(xvec).detach().numpy(), 'rx')\n",
    "plt.show()"
   ],
   "id": "44b499a670cb56fd",
   "outputs": [
    {
     "data": {
      "text/plain": [
       "<Figure size 640x480 with 1 Axes>"
      ],
      "image/png": "[encoded data removed]"
     },
     "metadata": {},
     "output_type": "display_data"
    }
   ],
   "execution_count": 28
  },
  {
   "cell_type": "markdown",
   "id": "17b3957b-e9fe-4139-aa79-8f8c796ff272",
   "metadata": {},
   "source": [
    "# Problème de texte\n",
    "\n",
    "On a des données prénom -> pays d'origine.\n",
    "On veut utiliser un réseau de neurones qui, pour un nom, va prédire le pays d'origine en utilisant la suite de caractères."
   ]
  },
  {
   "cell_type": "markdown",
   "id": "6e50ed09-e90f-4dc6-8ee5-7d60ab49dae4",
   "metadata": {},
   "source": [
    "## Extraction des données\n",
    "\n",
    "Vous trouverez [ici](https://download.pytorch.org/tutorial/data.zip) un zip avec des fichiers \\[nationalité\\].txt contenant des prénoms pour chaque nationalité. <br/>\n",
    "Nous allons avoir un jeu de données pays -> prénoms."
   ]
  },
  {
   "cell_type": "code",
   "id": "7f262124-648b-45f7-8160-75ef85ae77d4",
   "metadata": {
    "ExecuteTime": {
     "end_time": "2024-11-04T10:16:32.898976Z",
     "start_time": "2024-11-04T10:16:32.895085Z"
    }
   },
   "source": [
    "# Code pour générer le jeu de données\n",
    "# En admettant que les fichiers ont été extraits dans data/raw/names/\n",
    "\n",
    "import math\n",
    "import numpy as np\n",
    "from pathlib import Path\n",
    "import random\n",
    "import string\n",
    "import time\n",
    "import unicodedata\n",
    "\n",
    "path = Path(\"../data/raw/names/\")"
   ],
   "outputs": [],
   "execution_count": 29
  },
  {
   "cell_type": "code",
   "id": "04fe9128-f799-4215-8502-365d6b3222d1",
   "metadata": {
    "ExecuteTime": {
     "end_time": "2024-11-04T10:16:33.630366Z",
     "start_time": "2024-11-04T10:16:33.625922Z"
    }
   },
   "source": [
    "def read_names(path):\n",
    "    country_to_names = {}\n",
    "    for file in path.iterdir():\n",
    "        if not file.name.endswith(\".txt\"):\n",
    "            continue\n",
    "\n",
    "        with open(file) as f:\n",
    "            names = [unicodeToAscii(line.strip()) for line in f]\n",
    "\n",
    "        country = file.stem\n",
    "        country_to_names[country] = names\n",
    "\n",
    "    return country_to_names\n",
    "\n",
    "# Handling ASCII stuff\n",
    "all_letters = string.ascii_letters + \" .,;'\"\n",
    "n_letters = len(all_letters)\n",
    "\n",
    "# Turn a Unicode string to plain ASCII, thanks to https://stackoverflow.com/a/518232/2809427\n",
    "def unicodeToAscii(s):\n",
    "    return ''.join(\n",
    "        c for c in unicodedata.normalize('NFD', s)\n",
    "        if unicodedata.category(c) != 'Mn'\n",
    "        and c in all_letters\n",
    "    )"
   ],
   "outputs": [],
   "execution_count": 30
  },
  {
   "cell_type": "code",
   "id": "8de2ea3d-6881-4548-b648-f8a9a2ffc533",
   "metadata": {
    "ExecuteTime": {
     "end_time": "2024-11-04T10:16:34.593737Z",
     "start_time": "2024-11-04T10:16:34.553766Z"
    }
   },
   "source": [
    "country_to_names = read_names(path)\n",
    "\n",
    "# Afficher un exemple de données extraites\n",
    "for country, names in country_to_names.items():\n",
    "    print(f\"{country}: {names[:5]}\")\n",
    "    break"
   ],
   "outputs": [
    {
     "name": "stdout",
     "output_type": "stream",
     "text": [
      "Czech: ['Abl', 'Adsit', 'Ajdrna', 'Alt', 'Antonowitsch']\n"
     ]
    }
   ],
   "execution_count": 31
  },
  {
   "cell_type": "markdown",
   "id": "701e12dc-3c4d-4aca-a7f9-586385386bda",
   "metadata": {},
   "source": [
    "## Transformation des prénoms en features\n",
    "\n",
    "On va one-hot encode les lettres des prénoms. <br/>\n",
    "Si on utilisait \"a\" ayant comme indice 0, \"b\" indice 1, ... \"z\" indice 25, <br/>\n",
    "le prénom \"abby\" aurait les index suivants [0, 1, 1, 24], <br/>\n",
    "ou la matrice: <br/>\n",
    "[ <br/>\n",
    "    \\[1, 0, ..., 0, 0\\] <br/>\n",
    "    \\[0, 1, ..., 0, 0\\] <br/>\n",
    "    \\[0, 1, ..., 0, 0\\] <br/>\n",
    "    \\[0, 0, ..., 1, 0\\] <br/>\n",
    "] <br/>\n",
    "\n",
    "Dans les prénoms, nous avons des caractères spéciaux (comme \"ö\", \"é\", etc), donc nous utiliserons la table ASCII pour traduire les lettres en indice"
   ]
  },
  {
   "cell_type": "code",
   "id": "ead52645-92ff-4553-90bd-7f2246da2a31",
   "metadata": {
    "ExecuteTime": {
     "end_time": "2024-11-04T11:18:59.871802Z",
     "start_time": "2024-11-04T11:18:59.868149Z"
    }
   },
   "source": [
    "ascii_size = 128\n",
    "\n",
    "def get_normalized_ascii_indices(name):\n",
    "    ascii_indices = [ord(char) for char in name]\n",
    "    return ascii_indices\n",
    "\n",
    "def one_hot_encode_name(name):\n",
    "    return get_normalized_ascii_indices(name)"
   ],
   "outputs": [],
   "execution_count": 63
  },
  {
   "metadata": {
    "ExecuteTime": {
     "end_time": "2024-11-04T11:19:00.311637Z",
     "start_time": "2024-11-04T11:19:00.309593Z"
    }
   },
   "cell_type": "code",
   "source": [
    "# Test de la fonction\n",
    "name = \"abby\"\n",
    "\n",
    "encoded_name = one_hot_encode_name(name)\n",
    "print(encoded_name)"
   ],
   "id": "790d4e0362beae92",
   "outputs": [
    {
     "name": "stdout",
     "output_type": "stream",
     "text": [
      "[97, 98, 98, 121]\n"
     ]
    }
   ],
   "execution_count": 64
  },
  {
   "metadata": {
    "ExecuteTime": {
     "end_time": "2024-11-04T11:19:01.853157Z",
     "start_time": "2024-11-04T11:19:01.849670Z"
    }
   },
   "cell_type": "code",
   "source": [
    "def random_training_example():\n",
    "    country = random.choice(list(country_to_names.keys()))\n",
    "    name = random.choice(country_to_names[country])\n",
    "    return country, name\n",
    "\n",
    "def country_to_tensor(country):\n",
    "    return torch.tensor([list(country_to_names.keys()).index(country)], dtype=torch.long)\n",
    "\n",
    "def name_to_tensor(name):\n",
    "    name_indices = one_hot_encode_name(name)\n",
    "    return torch.tensor(name_indices, dtype=torch.long)"
   ],
   "id": "2369982dd1495f6f",
   "outputs": [],
   "execution_count": 65
  },
  {
   "metadata": {
    "ExecuteTime": {
     "end_time": "2024-11-04T11:19:02.865374Z",
     "start_time": "2024-11-04T11:19:02.860744Z"
    }
   },
   "cell_type": "code",
   "source": [
    "country, name = random_training_example()\n",
    "country_tensor = country_to_tensor(country)\n",
    "name_tensor = name_to_tensor(name)\n",
    "\n",
    "print(f\"Country: {country}, tensor: {country_tensor}\")\n",
    "print(f\"Name: {name}, tensor: {name_tensor}\")\n"
   ],
   "id": "4e02f7a6f8b28ae5",
   "outputs": [
    {
     "name": "stdout",
     "output_type": "stream",
     "text": [
      "Country: English, tensor: tensor([9])\n",
      "Name: Newington, tensor: tensor([ 78, 101, 119, 105, 110, 103, 116, 111, 110])\n"
     ]
    }
   ],
   "execution_count": 66
  },
  {
   "cell_type": "markdown",
   "id": "f7bd56ab-d287-4215-943d-aea759331955",
   "metadata": {},
   "source": [
    "## Jouons un peu avec les RNN\n",
    "\n",
    "Le RNN (Recurrent neural network) est prévu pour prendre une série d'inputs et prédire un output."
   ]
  },
  {
   "cell_type": "code",
   "id": "f43ec6ad-d1e1-409f-b9c6-77e1b604e6e4",
   "metadata": {
    "ExecuteTime": {
     "end_time": "2024-11-04T11:02:22.749733Z",
     "start_time": "2024-11-04T11:02:22.747066Z"
    }
   },
   "source": [
    "# La table ascii a 128 caractères, une lettre one-hot encodée est donc un vecteur de taille 128\n",
    "# Les inputs seront de tailles 128\n",
    "model = torch.nn.RNN(input_size=128, hidden_size=1)\n",
    "# Hidden_size est la dimension de l'output"
   ],
   "outputs": [],
   "execution_count": 53
  },
  {
   "cell_type": "code",
   "id": "8cd69edb-aef7-4fe8-a8c7-a1cf9646497d",
   "metadata": {
    "ExecuteTime": {
     "end_time": "2024-11-04T11:02:55.027615Z",
     "start_time": "2024-11-04T11:02:55.014481Z"
    }
   },
   "source": [
    "# La lettre \"a\" est l'indice 97 dans la table ascii\n",
    "letter_a = torch.zeros((1, 128))\n",
    "letter_a[0][97] = 1\n",
    "\n",
    "output, hidden = model(letter_a)\n",
    "output"
   ],
   "outputs": [
    {
     "data": {
      "text/plain": [
       "tensor([[-0.8689]], grad_fn=<SqueezeBackward1>)"
      ]
     },
     "execution_count": 54,
     "metadata": {},
     "output_type": "execute_result"
    }
   ],
   "execution_count": 54
  },
  {
   "cell_type": "code",
   "id": "737e494a-1ffb-46e2-a552-2b0e8273ec0b",
   "metadata": {
    "ExecuteTime": {
     "end_time": "2024-11-04T11:13:36.968122Z",
     "start_time": "2024-11-04T11:13:36.957006Z"
    }
   },
   "source": [
    "# Le prénom \"Abby\" est une suite de 4 lettres# La lettre \"a\" est l'indice 97 dans la table ascii\n",
    "name_abby = torch.zeros((1, 4, 128))\n",
    "name_abby[0][0][97] = 1\n",
    "name_abby[0][1][98] = 1\n",
    "name_abby[0][2][98] = 1\n",
    "name_abby[0][2][121] = 1\n",
    "\n",
    "output, hidden = model(name_abby)\n",
    "# On a un output pour chaque lettre. On considère que l'output de la dernière lettre est la nationalité à trouver\n",
    "output"
   ],
   "outputs": [
    {
     "data": {
      "text/plain": [
       "tensor([[[-0.8689],\n",
       "         [-0.7164],\n",
       "         [-0.9224],\n",
       "         [-0.3485]]], grad_fn=<StackBackward0>)"
      ]
     },
     "execution_count": 56,
     "metadata": {},
     "output_type": "execute_result"
    }
   ],
   "execution_count": 56
  },
  {
   "cell_type": "markdown",
   "id": "2a3b38e8-81ae-4583-b931-47b9eaa6b325",
   "metadata": {},
   "source": [
    "## Un RNN et une loss pour notre dataset\n",
    "Nous avons un problème de classification, nous allons utiliser la cross-entropy loss.\n",
    "\n",
    "Dans notre problème, nous avons 18 classes différentes (18 nationalités).\n",
    "Pour un prénom, notre réseau de neurones devra sortir la probabilité que le nom appartienne à chaque pays (un vecteur de taille 18, dont la somme fait 1).\n",
    "\n",
    "Notre réseau aura donc un output de taille 18, et nous appliquerons la fonction softmax pour en faire des probabilités (la somme des 18 outputs fera 1). <br/>\n",
    "Fonction softmax:\n",
    "\n",
    "$ \\sigma(x)_i = \\frac{e^{x_i}}{\\sum_{j=0}^{K} e^{x_j}} $"
   ]
  },
  {
   "cell_type": "code",
   "id": "8a367336-ebe8-4175-9a5e-6e2168801ad1",
   "metadata": {
    "ExecuteTime": {
     "end_time": "2024-11-04T11:13:38.954322Z",
     "start_time": "2024-11-04T11:13:38.951453Z"
    }
   },
   "source": [
    "model = torch.nn.RNN(input_size=128, hidden_size=18)\n",
    "loss = torch.nn.CrossEntropyLoss()"
   ],
   "outputs": [],
   "execution_count": 57
  },
  {
   "cell_type": "code",
   "id": "ab1024de-fc35-45bd-8dfb-399a04bd426c",
   "metadata": {
    "ExecuteTime": {
     "end_time": "2024-11-04T11:13:39.822576Z",
     "start_time": "2024-11-04T11:13:39.817623Z"
    }
   },
   "source": [
    "output, hidden = model(name_abby)\n",
    "\n",
    "output.shape"
   ],
   "outputs": [
    {
     "data": {
      "text/plain": [
       "torch.Size([1, 4, 18])"
      ]
     },
     "execution_count": 58,
     "metadata": {},
     "output_type": "execute_result"
    }
   ],
   "execution_count": 58
  },
  {
   "cell_type": "code",
   "id": "dc8cc62f-3d0a-4ad1-ae0f-75ff4a442ecb",
   "metadata": {
    "ExecuteTime": {
     "end_time": "2024-11-04T11:13:41.081125Z",
     "start_time": "2024-11-04T11:13:41.072745Z"
    }
   },
   "source": [
    "# Shape est 1 (un prénom), 4 (4 lettres), 18 (une valeur pour chacune des nationalités)\n",
    "\n",
    "# On utilise l'output de la dernière lettre\n",
    "output = output[:, -1, :]\n",
    "\n",
    "proba = torch.nn.functional.softmax(output)\n",
    "proba"
   ],
   "outputs": [
    {
     "name": "stderr",
     "output_type": "stream",
     "text": [
      "/var/folders/3h/mtzh29f56s5d6tym3k89pnfw0000gn/T/ipykernel_31137/4147069149.py:6: UserWarning: Implicit dimension choice for softmax has been deprecated. Change the call to include dim=X as an argument.\n",
      "  proba = torch.nn.functional.softmax(output)\n"
     ]
    },
    {
     "data": {
      "text/plain": [
       "tensor([[0.0365, 0.0394, 0.0488, 0.0584, 0.0640, 0.0608, 0.0531, 0.0643, 0.0549,\n",
       "         0.0667, 0.0482, 0.0414, 0.0703, 0.0483, 0.0483, 0.0621, 0.0642, 0.0702]],\n",
       "       grad_fn=<SoftmaxBackward0>)"
      ]
     },
     "execution_count": 59,
     "metadata": {},
     "output_type": "execute_result"
    }
   ],
   "execution_count": 59
  },
  {
   "cell_type": "code",
   "id": "7a79c5c0-c54d-4f86-b334-512024cd54d4",
   "metadata": {
    "ExecuteTime": {
     "end_time": "2024-11-04T11:13:47.228122Z",
     "start_time": "2024-11-04T11:13:47.216922Z"
    }
   },
   "source": [
    "# Pour différents label (nationalité du prénom \"Abby\"), on a différentes cross-entropy loss\n",
    "y = torch.zeros((1))\n",
    "y = y.type(torch.LongTensor)\n",
    "y[0] = 1\n",
    "\n",
    "loss(proba, y)"
   ],
   "outputs": [
    {
     "data": {
      "text/plain": [
       "tensor(2.9066, grad_fn=<NllLossBackward0>)"
      ]
     },
     "execution_count": 60,
     "metadata": {},
     "output_type": "execute_result"
    }
   ],
   "execution_count": 60
  },
  {
   "cell_type": "code",
   "id": "caea307a-49ca-4aeb-9eda-4b566291c03b",
   "metadata": {
    "ExecuteTime": {
     "end_time": "2024-11-04T11:13:48.559389Z",
     "start_time": "2024-11-04T11:13:48.553446Z"
    }
   },
   "source": [
    "y[0] = 13\n",
    "\n",
    "loss(proba, y)\n"
   ],
   "outputs": [
    {
     "data": {
      "text/plain": [
       "tensor(2.8977, grad_fn=<NllLossBackward0>)"
      ]
     },
     "execution_count": 61,
     "metadata": {},
     "output_type": "execute_result"
    }
   ],
   "execution_count": 61
  },
  {
   "cell_type": "markdown",
   "id": "b6e384d8-ac24-42fa-9440-1a1299ba976f",
   "metadata": {},
   "source": [
    "# Votre tour\n",
    "\n",
    "Maintenant que nous avons des données, un modèle et une loss:\n",
    "- Séparez vos données en train & test\n",
    "- Faites une loop tirant au hasard des noms avec leur nationalité, calculez la sortie du réseau de neurones, sa loss, le gradient, et faites un step pour l'optimiser\n",
    "- Une fois que vous avez un modèle qui marche, testez d'autres architectures de réseaux de neurones pour avoir le meilleur résultat."
   ]
  },
  {
   "metadata": {},
   "cell_type": "markdown",
   "source": "### Split du dataset",
   "id": "25b2ba803c048b26"
  },
  {
   "metadata": {
    "ExecuteTime": {
     "end_time": "2024-11-04T14:27:39.078120Z",
     "start_time": "2024-11-04T14:27:39.068094Z"
    }
   },
   "cell_type": "code",
   "source": [
    "# Check names repartition before splitting dataset\n",
    "country_counts = {country: len(names) for country, names in country_to_names.items()}\n",
    "print(country_counts)"
   ],
   "id": "8df091b48f388186",
   "outputs": [
    {
     "name": "stdout",
     "output_type": "stream",
     "text": [
      "{'Czech': 519, 'German': 724, 'Arabic': 2000, 'Japanese': 991, 'Chinese': 268, 'Vietnamese': 73, 'Russian': 9408, 'French': 277, 'Irish': 232, 'English': 3668, 'Spanish': 298, 'Greek': 203, 'Italian': 709, 'Portuguese': 74, 'Scottish': 100, 'Dutch': 297, 'Korean': 94, 'Polish': 139}\n"
     ]
    }
   ],
   "execution_count": 119
  },
  {
   "metadata": {
    "ExecuteTime": {
     "end_time": "2024-11-04T14:27:39.710193Z",
     "start_time": "2024-11-04T14:27:39.706965Z"
    }
   },
   "cell_type": "code",
   "source": [
    "def split_dataset(split_ratio):\n",
    "    data = []\n",
    "    for country, names in country_to_names.items():\n",
    "        for name in names:\n",
    "            data.append((country, name))\n",
    "\n",
    "    random.shuffle(data)\n",
    "    split_index = math.floor(len(data) * split_ratio)\n",
    "    return data[:split_index], data[split_index:]\n",
    "    "
   ],
   "id": "8386e76a920af2bb",
   "outputs": [],
   "execution_count": 120
  },
  {
   "metadata": {
    "ExecuteTime": {
     "end_time": "2024-11-04T14:27:40.548566Z",
     "start_time": "2024-11-04T14:27:40.537742Z"
    }
   },
   "cell_type": "code",
   "source": [
    "split_ratio = 0.7\n",
    "\n",
    "train_data, test_data = split_dataset(split_ratio)"
   ],
   "id": "792a065bac573ca8",
   "outputs": [],
   "execution_count": 121
  },
  {
   "metadata": {
    "ExecuteTime": {
     "end_time": "2024-11-04T14:27:41.257217Z",
     "start_time": "2024-11-04T14:27:41.254165Z"
    }
   },
   "cell_type": "code",
   "source": [
    "from collections import Counter\n",
    "\n",
    "train_countries = [country for country, _ in train_data]\n",
    "country_counts = Counter(train_countries)\n",
    "print(country_counts)"
   ],
   "id": "f1245f4c74133a26",
   "outputs": [
    {
     "name": "stdout",
     "output_type": "stream",
     "text": [
      "Counter({'Russian': 6579, 'English': 2538, 'Arabic': 1409, 'Japanese': 690, 'Italian': 516, 'German': 511, 'Czech': 373, 'Dutch': 203, 'Chinese': 202, 'French': 190, 'Spanish': 188, 'Irish': 175, 'Greek': 139, 'Polish': 93, 'Scottish': 72, 'Korean': 65, 'Vietnamese': 56, 'Portuguese': 52})\n"
     ]
    }
   ],
   "execution_count": 122
  },
  {
   "metadata": {
    "ExecuteTime": {
     "end_time": "2024-11-04T14:27:42.963323Z",
     "start_time": "2024-11-04T14:27:42.960662Z"
    }
   },
   "cell_type": "code",
   "source": "print(len(train_data), len(test_data))",
   "id": "45d517bd7ceedaa8",
   "outputs": [
    {
     "name": "stdout",
     "output_type": "stream",
     "text": [
      "14051 6023\n"
     ]
    }
   ],
   "execution_count": 123
  },
  {
   "metadata": {},
   "cell_type": "markdown",
   "source": "### Test du RNN",
   "id": "33eadc8100036490"
  },
  {
   "metadata": {
    "ExecuteTime": {
     "end_time": "2024-11-04T14:32:29.312158Z",
     "start_time": "2024-11-04T14:32:29.306780Z"
    }
   },
   "cell_type": "code",
   "source": [
    "model = torch.nn.RNN(input_size=128, hidden_size=18, batch_first=True)\n",
    "loss = torch.nn.CrossEntropyLoss()\n",
    "optimizer = torch.optim.Adam(model.parameters(), lr=0.1)\n"
   ],
   "id": "901326370f59d5ac",
   "outputs": [],
   "execution_count": 130
  },
  {
   "metadata": {
    "ExecuteTime": {
     "end_time": "2024-11-04T14:32:29.779781Z",
     "start_time": "2024-11-04T14:32:29.778052Z"
    }
   },
   "cell_type": "code",
   "source": [
    "def name_to_tensor(name):\n",
    "    name_indices = one_hot_encode_name(name)\n",
    "    tensor = torch.zeros((len(name_indices), ascii_size))\n",
    "    for i, index in enumerate(name_indices):\n",
    "        tensor[i][index] = 1 \n",
    "    return tensor"
   ],
   "id": "22945e8e9f4c95ca",
   "outputs": [],
   "execution_count": 131
  },
  {
   "metadata": {
    "ExecuteTime": {
     "end_time": "2024-11-04T14:32:55.603249Z",
     "start_time": "2024-11-04T14:32:30.249901Z"
    }
   },
   "cell_type": "code",
   "source": [
    "# Configuration\n",
    "epochs = 10000\n",
    "batch_size = 10\n",
    "update_step = 100\n",
    "\n",
    "for epoch in range(epochs):\n",
    "    optimizer.zero_grad()\n",
    "    total_loss = 0\n",
    "    for _ in range(batch_size):\n",
    "        country, name = random.choice(train_data)\n",
    "\n",
    "        country_tensor = country_to_tensor(country)\n",
    "        name_tensor = name_to_tensor(name)\n",
    "        name_tensor = name_tensor.unsqueeze(0)\n",
    "\n",
    "        output, hidden = model(name_tensor)\n",
    "        output = output[:, -1, :]\n",
    "        proba = torch.nn.functional.softmax(output, dim=1)\n",
    "\n",
    "        y = torch.tensor([list(country_to_names.keys()).index(country)], dtype=torch.long)\n",
    "        loss_val = loss(proba, y)\n",
    "        total_loss += loss_val\n",
    "\n",
    "    total_loss /= batch_size\n",
    "    total_loss.backward()\n",
    "\n",
    "    if epoch % update_step == 0:\n",
    "        optimizer.step()\n",
    "\n",
    "    if epoch % 100 == 0:\n",
    "        print(f'Epoch {epoch}, loss {total_loss.item()}')"
   ],
   "id": "c04c6d3a936f4042",
   "outputs": [
    {
     "name": "stdout",
     "output_type": "stream",
     "text": [
      "Epoch 0, loss 2.8937768936157227\n",
      "Epoch 100, loss 2.8760738372802734\n",
      "Epoch 200, loss 2.8507652282714844\n",
      "Epoch 300, loss 2.8025450706481934\n",
      "Epoch 400, loss 2.842233180999756\n",
      "Epoch 500, loss 2.7724716663360596\n",
      "Epoch 600, loss 2.853066921234131\n",
      "Epoch 700, loss 2.750443696975708\n",
      "Epoch 800, loss 2.790715456008911\n",
      "Epoch 900, loss 2.7706522941589355\n",
      "Epoch 1000, loss 2.8114819526672363\n",
      "Epoch 1100, loss 2.83229398727417\n",
      "Epoch 1200, loss 2.727581024169922\n",
      "Epoch 1300, loss 2.7919704914093018\n",
      "Epoch 1400, loss 2.772031545639038\n",
      "Epoch 1500, loss 2.7296643257141113\n",
      "Epoch 1600, loss 2.8114030361175537\n",
      "Epoch 1700, loss 2.7706055641174316\n",
      "Epoch 1800, loss 2.7498373985290527\n",
      "Epoch 1900, loss 2.7496821880340576\n",
      "Epoch 2000, loss 2.8119192123413086\n",
      "Epoch 2100, loss 2.7911336421966553\n",
      "Epoch 2200, loss 2.749605178833008\n",
      "Epoch 2300, loss 2.791130781173706\n",
      "Epoch 2400, loss 2.7911291122436523\n",
      "Epoch 2500, loss 2.770346164703369\n",
      "Epoch 2600, loss 2.832629680633545\n",
      "Epoch 2700, loss 2.8118958473205566\n",
      "Epoch 2800, loss 2.728860378265381\n",
      "Epoch 2900, loss 2.8118836879730225\n",
      "Epoch 3000, loss 2.791125774383545\n",
      "Epoch 3100, loss 2.7911295890808105\n",
      "Epoch 3200, loss 2.7496109008789062\n",
      "Epoch 3300, loss 2.7496092319488525\n",
      "Epoch 3400, loss 2.728853464126587\n",
      "Epoch 3500, loss 2.749613046646118\n",
      "Epoch 3600, loss 2.7288546562194824\n",
      "Epoch 3700, loss 2.7703702449798584\n",
      "Epoch 3800, loss 2.728851079940796\n",
      "Epoch 3900, loss 2.7911269664764404\n",
      "Epoch 4000, loss 2.7496120929718018\n",
      "Epoch 4100, loss 2.7496142387390137\n",
      "Epoch 4200, loss 2.7703709602355957\n",
      "Epoch 4300, loss 2.728855609893799\n",
      "Epoch 4400, loss 2.7911312580108643\n",
      "Epoch 4500, loss 2.7496132850646973\n",
      "Epoch 4600, loss 2.770371913909912\n",
      "Epoch 4700, loss 2.7911300659179688\n",
      "Epoch 4800, loss 2.811890125274658\n",
      "Epoch 4900, loss 2.7911291122436523\n",
      "Epoch 5000, loss 2.811887264251709\n",
      "Epoch 5100, loss 2.7703700065612793\n",
      "Epoch 5200, loss 2.749610424041748\n",
      "Epoch 5300, loss 2.8118906021118164\n",
      "Epoch 5400, loss 2.791128396987915\n",
      "Epoch 5500, loss 2.7496113777160645\n",
      "Epoch 5600, loss 2.7496111392974854\n",
      "Epoch 5700, loss 2.7496135234832764\n",
      "Epoch 5800, loss 2.791130542755127\n",
      "Epoch 5900, loss 2.811887264251709\n",
      "Epoch 6000, loss 2.7911272048950195\n",
      "Epoch 6100, loss 2.8534042835235596\n",
      "Epoch 6200, loss 2.7496132850646973\n",
      "Epoch 6300, loss 2.791128635406494\n",
      "Epoch 6400, loss 2.749610662460327\n",
      "Epoch 6500, loss 2.770373582839966\n",
      "Epoch 6600, loss 2.770372152328491\n",
      "Epoch 6700, loss 2.8534066677093506\n",
      "Epoch 6800, loss 2.770371437072754\n",
      "Epoch 6900, loss 2.749613046646118\n",
      "Epoch 7000, loss 2.7911298274993896\n",
      "Epoch 7100, loss 2.7911267280578613\n",
      "Epoch 7200, loss 2.7703707218170166\n",
      "Epoch 7300, loss 2.8326478004455566\n",
      "Epoch 7400, loss 2.8534045219421387\n",
      "Epoch 7500, loss 2.7080941200256348\n",
      "Epoch 7600, loss 2.7911264896392822\n",
      "Epoch 7700, loss 2.728853225708008\n",
      "Epoch 7800, loss 2.7703723907470703\n",
      "Epoch 7900, loss 2.728853702545166\n",
      "Epoch 8000, loss 2.791128635406494\n",
      "Epoch 8100, loss 2.728853940963745\n",
      "Epoch 8200, loss 2.770369052886963\n",
      "Epoch 8300, loss 2.791125535964966\n",
      "Epoch 8400, loss 2.8118839263916016\n",
      "Epoch 8500, loss 2.7703661918640137\n",
      "Epoch 8600, loss 2.7911276817321777\n",
      "Epoch 8700, loss 2.7911219596862793\n",
      "Epoch 8800, loss 2.853403329849243\n",
      "Epoch 8900, loss 2.7911274433135986\n",
      "Epoch 9000, loss 2.7703661918640137\n",
      "Epoch 9100, loss 2.811885356903076\n",
      "Epoch 9200, loss 2.811889171600342\n",
      "Epoch 9300, loss 2.832648754119873\n",
      "Epoch 9400, loss 2.791126251220703\n",
      "Epoch 9500, loss 2.7080860137939453\n",
      "Epoch 9600, loss 2.749610424041748\n",
      "Epoch 9700, loss 2.770371913909912\n",
      "Epoch 9800, loss 2.770366668701172\n",
      "Epoch 9900, loss 2.7911295890808105\n"
     ]
    }
   ],
   "execution_count": 132
  },
  {
   "metadata": {
    "ExecuteTime": {
     "end_time": "2024-11-04T14:33:02.698059Z",
     "start_time": "2024-11-04T14:33:02.257613Z"
    }
   },
   "cell_type": "code",
   "source": [
    "# Test du modèle\n",
    "correct = 0\n",
    "total = 0\n",
    "iteration_count = 0\n",
    "\n",
    "with torch.no_grad():\n",
    "    for country, name in test_data:\n",
    "        country_tensor = country_to_tensor(country)\n",
    "        name_tensor = name_to_tensor(name)\n",
    "\n",
    "        # Ajout de la dimension de batch pour le nom\n",
    "        name_tensor = name_tensor.unsqueeze(0)  # (1, sequence_length, input_size)\n",
    "\n",
    "        output, hidden = model(name_tensor)\n",
    "        output = output[:, -1, :]\n",
    "        proba = torch.nn.functional.softmax(output, dim=1)\n",
    "\n",
    "        # Obtenir l'indice de la classe prédite\n",
    "        _, predicted_index = torch.max(proba, 1)\n",
    "\n",
    "        # Vérifier si la prédiction est correcte\n",
    "        predicted_country = list(country_to_names.keys())[predicted_index.item()]  # Convertir l'indice en pays\n",
    "        total += 1\n",
    "        if predicted_country == country:\n",
    "            correct += 1\n",
    "            \n",
    "        # Incrémenter le compteur d'itérations\n",
    "        iteration_count += 1\n",
    "        \n",
    "        # Print prediction toutes les 200 itérations\n",
    "        if iteration_count % 100 == 0:\n",
    "            print(f'Iteration {iteration_count}: Predicted: {predicted_country}, Actual: {country}, Name: {name}')\n",
    "\n",
    "# Afficher l'accuracy finale\n",
    "print(f'Accuracy: {correct / total if total > 0 else 0:.2f}')\n"
   ],
   "id": "e04b6411d8603757",
   "outputs": [
    {
     "name": "stdout",
     "output_type": "stream",
     "text": [
      "Iteration 100: Predicted: Russian, Actual: English, Name: Stokes\n",
      "Iteration 200: Predicted: Russian, Actual: Japanese, Name: Komagata\n",
      "Iteration 300: Predicted: Russian, Actual: Russian, Name: Lysyansky\n",
      "Iteration 400: Predicted: Russian, Actual: Italian, Name: Acquati\n",
      "Iteration 500: Predicted: Russian, Actual: Chinese, Name: Hor\n",
      "Iteration 600: Predicted: Russian, Actual: Russian, Name: Jablochkov\n",
      "Iteration 700: Predicted: Russian, Actual: Irish, Name: Neville\n",
      "Iteration 800: Predicted: Russian, Actual: Russian, Name: Zhuravsky\n",
      "Iteration 900: Predicted: Russian, Actual: Arabic, Name: Tuma\n",
      "Iteration 1000: Predicted: Russian, Actual: Russian, Name: Martyanov\n",
      "Iteration 1100: Predicted: Russian, Actual: German, Name: Unruh\n",
      "Iteration 1200: Predicted: Russian, Actual: Russian, Name: Baglai\n",
      "Iteration 1300: Predicted: Russian, Actual: Arabic, Name: Issa\n",
      "Iteration 1400: Predicted: Russian, Actual: Arabic, Name: Daher\n",
      "Iteration 1500: Predicted: Russian, Actual: English, Name: Anley\n",
      "Iteration 1600: Predicted: Russian, Actual: Russian, Name: Dzhumagaliev\n",
      "Iteration 1700: Predicted: Russian, Actual: Italian, Name: Giunta\n",
      "Iteration 1800: Predicted: Russian, Actual: Czech, Name: Machacek\n",
      "Iteration 1900: Predicted: Russian, Actual: English, Name: Rhys\n",
      "Iteration 2000: Predicted: Russian, Actual: Russian, Name: Ville\n",
      "Iteration 2100: Predicted: Russian, Actual: Russian, Name: Valitov\n",
      "Iteration 2200: Predicted: Russian, Actual: Russian, Name: Avalov\n",
      "Iteration 2300: Predicted: Russian, Actual: English, Name: Clements\n",
      "Iteration 2400: Predicted: Russian, Actual: English, Name: Brelsford\n",
      "Iteration 2500: Predicted: Russian, Actual: Japanese, Name: Kurata\n",
      "Iteration 2600: Predicted: Russian, Actual: English, Name: Duke\n",
      "Iteration 2700: Predicted: Russian, Actual: Spanish, Name: Lobo\n",
      "Iteration 2800: Predicted: Russian, Actual: Russian, Name: Auerbakh\n",
      "Iteration 2900: Predicted: Russian, Actual: Arabic, Name: Halabi\n",
      "Iteration 3000: Predicted: Russian, Actual: Czech, Name: Tejc\n",
      "Iteration 3100: Predicted: Russian, Actual: English, Name: Jarvis\n",
      "Iteration 3200: Predicted: Russian, Actual: Russian, Name: Belousko\n",
      "Iteration 3300: Predicted: Russian, Actual: Italian, Name: Nascimbene\n",
      "Iteration 3400: Predicted: Russian, Actual: Japanese, Name: Kuramoto\n",
      "Iteration 3500: Predicted: Russian, Actual: Arabic, Name: Sleiman\n",
      "Iteration 3600: Predicted: Russian, Actual: English, Name: Parmar\n",
      "Iteration 3700: Predicted: Russian, Actual: Arabic, Name: Sayegh\n",
      "Iteration 3800: Predicted: Russian, Actual: German, Name: Wirnhier\n",
      "Iteration 3900: Predicted: Russian, Actual: Russian, Name: Mordashov\n",
      "Iteration 4000: Predicted: Russian, Actual: Russian, Name: Poshibalov\n",
      "Iteration 4100: Predicted: Russian, Actual: Russian, Name: Dojin\n",
      "Iteration 4200: Predicted: Russian, Actual: English, Name: Mcmanus\n",
      "Iteration 4300: Predicted: Russian, Actual: German, Name: Papke\n",
      "Iteration 4400: Predicted: Russian, Actual: Japanese, Name: Ieyoshi\n",
      "Iteration 4500: Predicted: Russian, Actual: Korean, Name: Ho\n",
      "Iteration 4600: Predicted: Russian, Actual: English, Name: Thurston\n",
      "Iteration 4700: Predicted: Russian, Actual: Japanese, Name: Okita\n",
      "Iteration 4800: Predicted: Russian, Actual: Russian, Name: Dzhamaldinov\n",
      "Iteration 4900: Predicted: Russian, Actual: English, Name: Ostler\n",
      "Iteration 5000: Predicted: Russian, Actual: Russian, Name: Zhivaev\n",
      "Iteration 5100: Predicted: Russian, Actual: Arabic, Name: Gaber\n",
      "Iteration 5200: Predicted: Russian, Actual: Russian, Name: Tikhobaev\n",
      "Iteration 5300: Predicted: Russian, Actual: Russian, Name: Tuboltsev\n",
      "Iteration 5400: Predicted: Russian, Actual: Arabic, Name: Bazzi\n",
      "Iteration 5500: Predicted: Russian, Actual: Russian, Name: Shaldybin\n",
      "Iteration 5600: Predicted: Russian, Actual: Russian, Name: Jablovsky\n",
      "Iteration 5700: Predicted: Russian, Actual: Russian, Name: Jivotinsky\n",
      "Iteration 5800: Predicted: Russian, Actual: Russian, Name: Baramidze\n",
      "Iteration 5900: Predicted: Russian, Actual: Russian, Name: Ponarovsky\n",
      "Iteration 6000: Predicted: Russian, Actual: English, Name: Raven\n",
      "Accuracy: 0.47\n"
     ]
    }
   ],
   "execution_count": 133
  },
  {
   "metadata": {},
   "cell_type": "code",
   "outputs": [],
   "execution_count": null,
   "source": "",
   "id": "5c043537157e6616"
  }
 ],
 "metadata": {
  "kernelspec": {
   "display_name": "Python 3 (ipykernel)",
   "language": "python",
   "name": "python3"
  },
  "language_info": {
   "codemirror_mode": {
    "name": "ipython",
    "version": 3
   },
   "file_extension": ".py",
   "mimetype": "text/x-python",
   "name": "python",
   "nbconvert_exporter": "python",
   "pygments_lexer": "ipython3",
   "version": "3.12.7"
  }
 },
 "nbformat": 4,
 "nbformat_minor": 5
}
